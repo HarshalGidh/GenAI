{
 "cells": [
  {
   "cell_type": "code",
   "execution_count": 2,
   "id": "8ca13005-7806-4b07-a854-ce48f49178e8",
   "metadata": {},
   "outputs": [],
   "source": [
    "l = [1,2,3,4,5,\"abc\" , \"xyz\" , [1,2,3,34,45]]"
   ]
  },
  {
   "cell_type": "code",
   "execution_count": 3,
   "id": "c7db5b04-719d-447c-b626-73c4fa4f1cb1",
   "metadata": {},
   "outputs": [],
   "source": [
    "def test(a):\n",
    "    n  = []\n",
    "    for i in a :\n",
    "        if type(i) == int or type(i) == float :\n",
    "            n.append(i)\n",
    "    return n"
   ]
  },
  {
   "cell_type": "code",
   "execution_count": 4,
   "id": "92d97f26-664b-424c-97fb-f92ea0905440",
   "metadata": {},
   "outputs": [
    {
     "data": {
      "text/plain": [
       "[1, 2, 3, 4, 5]"
      ]
     },
     "execution_count": 4,
     "metadata": {},
     "output_type": "execute_result"
    }
   ],
   "source": [
    "test(l)"
   ]
  },
  {
   "cell_type": "code",
   "execution_count": 5,
   "id": "647ba3d5-89b9-4d84-9ba7-69e8d11eff34",
   "metadata": {},
   "outputs": [],
   "source": [
    "def test1(a) : \n",
    "    n = []\n",
    "    for i in a :\n",
    "        if type(i) == list :\n",
    "            for j in i :\n",
    "                if type(j) == int or type(j) == float :\n",
    "                    n.append(j)\n",
    "        else :\n",
    "            if type(i) == int or type(i) == float :\n",
    "                n.append(i)\n",
    "    return n"
   ]
  },
  {
   "cell_type": "code",
   "execution_count": 6,
   "id": "30da9289-cde5-4c9e-a29e-9e2cdcfa97ad",
   "metadata": {},
   "outputs": [
    {
     "data": {
      "text/plain": [
       "[1, 2, 3, 4, 5, 1, 2, 3, 34, 45]"
      ]
     },
     "execution_count": 6,
     "metadata": {},
     "output_type": "execute_result"
    }
   ],
   "source": [
    "test1(l)"
   ]
  },
  {
   "cell_type": "code",
   "execution_count": 7,
   "id": "e2290a2e-e444-4c24-8bc6-acdb50aded4b",
   "metadata": {},
   "outputs": [],
   "source": [
    "def test2(*args):\n",
    "    return args"
   ]
  },
  {
   "cell_type": "code",
   "execution_count": 8,
   "id": "988bdcd7-2015-4b4f-bee6-ddd374d7a8e3",
   "metadata": {},
   "outputs": [
    {
     "data": {
      "text/plain": [
       "('sudh', [1, 2, 3, 4, 5], (1, 2, 3, 4, 5))"
      ]
     },
     "execution_count": 8,
     "metadata": {},
     "output_type": "execute_result"
    }
   ],
   "source": [
    "test2(\"sudh\" , [1,2,3,4,5] , (1,2,3,4,5))"
   ]
  },
  {
   "cell_type": "code",
   "execution_count": 9,
   "id": "5476a94f-4925-4a19-b4b3-1742c501f1f3",
   "metadata": {},
   "outputs": [],
   "source": [
    "def test3(*args):\n",
    "    l = []\n",
    "    for i in args:\n",
    "        if type(i) == list :\n",
    "            l.append(i)\n",
    "            \n",
    "    return l"
   ]
  },
  {
   "cell_type": "code",
   "execution_count": 10,
   "id": "f012f090-d1f5-427a-9b5f-20e59daa165a",
   "metadata": {},
   "outputs": [
    {
     "data": {
      "text/plain": [
       "[[1, 2, 3, 4, 4], [4, 5, 6], [6, 7, 8]]"
      ]
     },
     "execution_count": 10,
     "metadata": {},
     "output_type": "execute_result"
    }
   ],
   "source": [
    "test3(1,2,3,[1,2,3,4,4] , (1,2,3,4,4) , \"sudh\" , [4,5,6] , [6,7,8])"
   ]
  },
  {
   "cell_type": "code",
   "execution_count": 12,
   "id": "0bc5ef68-e681-4c95-bbf1-c6ee5b98c472",
   "metadata": {},
   "outputs": [],
   "source": [
    "#kwargs is keyword value pair\n",
    "def test4(**kwargs):\n",
    "    for i in kwargs.keys():\n",
    "        if type(kwargs[i] ) == list :\n",
    "            return i , kwargs[i]"
   ]
  },
  {
   "cell_type": "code",
   "execution_count": 13,
   "id": "81432d7a-275f-44bd-9f9c-c9250b0094dd",
   "metadata": {},
   "outputs": [
    {
     "data": {
      "text/plain": [
       "('c', [1, 2, 3, 4])"
      ]
     },
     "execution_count": 13,
     "metadata": {},
     "output_type": "execute_result"
    }
   ],
   "source": [
    "test4(a = 34 , b = 23 , c = [1,2,3,4] , d = (\"abcde\" , \"xyz\"))"
   ]
  },
  {
   "cell_type": "code",
   "execution_count": 14,
   "id": "bf2b47bb-2848-4871-a497-0a95b5e92aef",
   "metadata": {},
   "outputs": [],
   "source": [
    "def test5(*args , **kwargs) : \n",
    "    return args , kwargs"
   ]
  },
  {
   "cell_type": "code",
   "execution_count": 15,
   "id": "3d17e668-88cf-4ef6-8ed7-57b7422f433f",
   "metadata": {},
   "outputs": [
    {
     "data": {
      "text/plain": [
       "((2, 3, 4, 5), {'a': 34, 'b': 98})"
      ]
     },
     "execution_count": 15,
     "metadata": {},
     "output_type": "execute_result"
    }
   ],
   "source": [
    "test5(2,3,4,5,a= 34, b = 98)"
   ]
  },
  {
   "cell_type": "markdown",
   "id": "ec216740-6b10-4633-8378-8c5e7c89b3f9",
   "metadata": {},
   "source": [
    "Generator Function gives an iterator just like the Range function"
   ]
  },
  {
   "cell_type": "code",
   "execution_count": 16,
   "id": "4ebe4a9e-5131-45e5-acc1-a6ea48b42728",
   "metadata": {},
   "outputs": [],
   "source": [
    "def test_fib(n) :\n",
    "    a,b = 0,1\n",
    "    for i in range(n):\n",
    "        yield a \n",
    "        a,b = b ,a+b "
   ]
  },
  {
   "cell_type": "code",
   "execution_count": 17,
   "id": "96104348-9bca-47fb-8c01-6a350f43a724",
   "metadata": {},
   "outputs": [
    {
     "data": {
      "text/plain": [
       "<generator object test_fib at 0x7f17c14b4f90>"
      ]
     },
     "execution_count": 17,
     "metadata": {},
     "output_type": "execute_result"
    }
   ],
   "source": [
    "test_fib(10)"
   ]
  },
  {
   "cell_type": "code",
   "execution_count": 18,
   "id": "c99e8cb6-92e7-4dd8-8716-aa5995337557",
   "metadata": {},
   "outputs": [
    {
     "name": "stdout",
     "output_type": "stream",
     "text": [
      "0\n",
      "1\n",
      "1\n",
      "2\n",
      "3\n",
      "5\n",
      "8\n",
      "13\n",
      "21\n",
      "34\n"
     ]
    }
   ],
   "source": [
    "for i in test_fib(10) : \n",
    "    print(i)"
   ]
  },
  {
   "cell_type": "code",
   "execution_count": 19,
   "id": "fe114b45-ba7b-4621-a9bc-cf0d0d7a7d82",
   "metadata": {},
   "outputs": [],
   "source": [
    "a = lambda n,p : n**p"
   ]
  },
  {
   "cell_type": "code",
   "execution_count": 20,
   "id": "3ec51a46-1f9f-4352-9ccf-e7a265c37087",
   "metadata": {},
   "outputs": [
    {
     "data": {
      "text/plain": [
       "6561"
      ]
     },
     "execution_count": 20,
     "metadata": {},
     "output_type": "execute_result"
    }
   ],
   "source": [
    "a(9,4)"
   ]
  },
  {
   "cell_type": "markdown",
   "id": "33f70c45-5ba8-4545-b453-3fb6d20538c4",
   "metadata": {},
   "source": [
    "Map Function Maps a function to an iterable like list, it stores the o/p in a mapper"
   ]
  },
  {
   "cell_type": "code",
   "execution_count": 24,
   "id": "89171b69-f8aa-4d15-bb6a-1b4922da8b75",
   "metadata": {
    "tags": []
   },
   "outputs": [
    {
     "data": {
      "text/plain": [
       "[1, 2, 3, 4, 5, 6, 7, 8, 9, 10]"
      ]
     },
     "execution_count": 24,
     "metadata": {},
     "output_type": "execute_result"
    }
   ],
   "source": [
    "l = [i for i in range(1, 11)]\n",
    "l"
   ]
  },
  {
   "cell_type": "code",
   "execution_count": 25,
   "id": "f3540801-0f6a-469e-9b87-8cced1bf990f",
   "metadata": {},
   "outputs": [
    {
     "data": {
      "text/plain": [
       "[1, 4, 9, 16, 25, 36, 49, 64, 81, 100]"
      ]
     },
     "execution_count": 25,
     "metadata": {},
     "output_type": "execute_result"
    }
   ],
   "source": [
    "list(map(lambda x : x**2 ,l))"
   ]
  },
  {
   "cell_type": "code",
   "execution_count": 26,
   "id": "7e42da67-b9af-4c6b-85c7-6282f0bdc9b7",
   "metadata": {},
   "outputs": [
    {
     "data": {
      "text/plain": [
       "['1', '2', '3', '4', '5', '6', '7', '8', '9', '10']"
      ]
     },
     "execution_count": 26,
     "metadata": {},
     "output_type": "execute_result"
    }
   ],
   "source": [
    "list(map(lambda x : str(x) , l ))"
   ]
  },
  {
   "cell_type": "code",
   "execution_count": 27,
   "id": "ca963397-bde9-4e02-a83c-932df1c789dc",
   "metadata": {},
   "outputs": [],
   "source": [
    "l1 = [1,2,3,4,5]\n",
    "l2 = [6,7,8,9,10]"
   ]
  },
  {
   "cell_type": "code",
   "execution_count": 28,
   "id": "738b9988-53ca-4864-b9fe-3ebfa8cb871a",
   "metadata": {},
   "outputs": [
    {
     "data": {
      "text/plain": [
       "[7, 9, 11, 13, 15]"
      ]
     },
     "execution_count": 28,
     "metadata": {},
     "output_type": "execute_result"
    }
   ],
   "source": [
    "list(map(lambda x,y :x+y , l1,l2))"
   ]
  },
  {
   "cell_type": "markdown",
   "id": "48639aef-7a28-4b96-9350-4c33a7834693",
   "metadata": {},
   "source": [
    "Reduce Function"
   ]
  },
  {
   "cell_type": "code",
   "execution_count": 29,
   "id": "76d54539-084d-426b-bd49-a797ade41d39",
   "metadata": {},
   "outputs": [],
   "source": [
    "from functools import  reduce"
   ]
  },
  {
   "cell_type": "markdown",
   "id": "7d493fab-0554-4be3-aab5-1995061f7e0e",
   "metadata": {},
   "source": [
    "Apply a function of two arguments cumulatively to the items of a sequence\n",
    "or iterable, from left to right, so as to reduce the iterable to a single\n",
    "value.  For example, reduce(lambda x, y: x+y, [1, 2, 3, 4, 5]) calculates\n",
    "((((1+2)+3)+4)+5).  If initial is present, it is placed before the items\n",
    "of the iterable in the calculation, and serves as a default when the\n",
    "iterable is empty"
   ]
  },
  {
   "cell_type": "code",
   "execution_count": 32,
   "id": "6ff55cac-195a-4d7b-8ac0-a43afd9d217f",
   "metadata": {},
   "outputs": [
    {
     "data": {
      "text/plain": [
       "120"
      ]
     },
     "execution_count": 32,
     "metadata": {},
     "output_type": "execute_result"
    }
   ],
   "source": [
    "l = [1,2,3,4,5]\n",
    "reduce(lambda x,y : x * y, l) #factorial"
   ]
  },
  {
   "cell_type": "code",
   "execution_count": 35,
   "id": "9935b0fb-4335-4e02-9616-e4169cbe8aa0",
   "metadata": {},
   "outputs": [
    {
     "data": {
      "text/plain": [
       "1"
      ]
     },
     "execution_count": 35,
     "metadata": {},
     "output_type": "execute_result"
    }
   ],
   "source": [
    "#excpetion case where 1 ele is enough :\n",
    "reduce(lambda x , y : x+y , [1])\n",
    "reduce(lambda x , y : x*y , [1])"
   ]
  },
  {
   "cell_type": "markdown",
   "id": "e8b404e6-b82a-485d-9bb2-aef1713e7290",
   "metadata": {},
   "source": [
    "Filter Function"
   ]
  },
  {
   "cell_type": "code",
   "execution_count": 36,
   "id": "23162ee6-5274-4715-9bc7-35590a5f8070",
   "metadata": {},
   "outputs": [
    {
     "data": {
      "text/plain": [
       "<filter at 0x7f17c01699f0>"
      ]
     },
     "execution_count": 36,
     "metadata": {},
     "output_type": "execute_result"
    }
   ],
   "source": [
    "l = [1,2,3,4,5]\n",
    "filter(lambda x : x % 2 == 0, l)"
   ]
  },
  {
   "cell_type": "code",
   "execution_count": 37,
   "id": "d86a4e0b-1a15-41fa-86e9-f0392e429fa4",
   "metadata": {},
   "outputs": [
    {
     "data": {
      "text/plain": [
       "[2, 4]"
      ]
     },
     "execution_count": 37,
     "metadata": {},
     "output_type": "execute_result"
    }
   ],
   "source": [
    "list(filter(lambda x : x % 2 == 0, l))"
   ]
  },
  {
   "cell_type": "code",
   "execution_count": 38,
   "id": "2b301c40-5afd-4bc3-ab1e-c41f5fbc3835",
   "metadata": {},
   "outputs": [
    {
     "data": {
      "text/plain": [
       "[-2, -3, -6, -7]"
      ]
     },
     "execution_count": 38,
     "metadata": {},
     "output_type": "execute_result"
    }
   ],
   "source": [
    "l1 = [-2,4,5,6,-3,-6,-7]\n",
    "list(filter(lambda x : x < 0 , l1))"
   ]
  },
  {
   "cell_type": "code",
   "execution_count": null,
   "id": "ed0afd54-e6df-4cc9-94e3-a57009642db0",
   "metadata": {},
   "outputs": [],
   "source": []
  }
 ],
 "metadata": {
  "kernelspec": {
   "display_name": "Python 3 (ipykernel)",
   "language": "python",
   "name": "python3"
  },
  "language_info": {
   "codemirror_mode": {
    "name": "ipython",
    "version": 3
   },
   "file_extension": ".py",
   "mimetype": "text/x-python",
   "name": "python",
   "nbconvert_exporter": "python",
   "pygments_lexer": "ipython3",
   "version": "3.10.6"
  }
 },
 "nbformat": 4,
 "nbformat_minor": 5
}
